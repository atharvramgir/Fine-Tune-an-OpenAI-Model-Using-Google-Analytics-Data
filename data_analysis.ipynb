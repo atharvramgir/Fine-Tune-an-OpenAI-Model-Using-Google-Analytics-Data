{
 "cells": [
  {
   "cell_type": "code",
   "execution_count": 3,
   "id": "24629e8b-80e1-4b60-8e5b-c94d23980af2",
   "metadata": {},
   "outputs": [],
   "source": [
    "import pandas as pd\n",
    "\n",
    "# Load the CSV files\n",
    "daily_active_users = pd.read_csv(\"C:\\\\Users\\\\Atharva Ramgir\\\\Downloads\\\\DATA\\\\DATA\\\\daily_active_users.csv\")\n",
    "demographic_age_report = pd.read_csv(\"C:\\\\Users\\\\Atharva Ramgir\\\\Downloads\\\\DATA\\\\DATA\\\\demographic_age_report.csv\")\n",
    "tech_browser_report = pd.read_csv(\"C:\\\\Users\\\\Atharva Ramgir\\\\Downloads\\\\DATA\\\\DATA\\\\tech_browser_report.csv\")\n",
    "\n"
   ]
  },
  {
   "cell_type": "code",
   "execution_count": 4,
   "id": "6d3c3d29-f221-46ca-9cb4-af92fa95a0d4",
   "metadata": {
    "scrolled": true
   },
   "outputs": [
    {
     "name": "stdout",
     "output_type": "stream",
     "text": [
      "Daily Active Users:\n",
      "   active1dayusers      date\n",
      "0              402  30/06/23\n",
      "1              433  01/07/23\n",
      "2              467  02/07/23\n",
      "3              582  03/07/23\n",
      "4              613  04/07/23\n"
     ]
    }
   ],
   "source": [
    "print(\"Daily Active Users:\")\n",
    "print(daily_active_users.head())\n"
   ]
  },
  {
   "cell_type": "code",
   "execution_count": 5,
   "id": "1f06d06b-8af5-422f-a924-7506d22e65fe",
   "metadata": {},
   "outputs": [
    {
     "name": "stdout",
     "output_type": "stream",
     "text": [
      "\n",
      "Demographic Age Report:\n",
      "   newusers  totalusers  conversions  property_id  totalrevenue  \\\n",
      "0        11          11            0    353783484             0   \n",
      "1        24          24            0    353783484             0   \n",
      "2        26          26            0    353783484             0   \n",
      "3        24          24            0    353783484             0   \n",
      "4        13          13            0    353783484             0   \n",
      "\n",
      "   engagementrate useragebracket  engagedsessions      date  \n",
      "0        0.769231          18-24               10  30/06/23  \n",
      "1        0.769231          25-34               20  30/06/23  \n",
      "2        0.645161          35-44               20  30/06/23  \n",
      "3        0.571429          45-54               16  30/06/23  \n",
      "4        0.769231          55-64               10  30/06/23  \n"
     ]
    }
   ],
   "source": [
    "print(\"\\nDemographic Age Report:\")\n",
    "print(demographic_age_report.head())"
   ]
  },
  {
   "cell_type": "code",
   "execution_count": 6,
   "id": "296dc2a0-ed81-4db4-8c77-651144d334b5",
   "metadata": {},
   "outputs": [
    {
     "name": "stdout",
     "output_type": "stream",
     "text": [
      "\n",
      "Tech Browser Report:\n",
      "           browser  newusers  eventcount  totalusers  conversions  \\\n",
      "0  Android Webview        13          42          13            0   \n",
      "1           Chrome       181        1475         181            0   \n",
      "2             Edge        14          93          14            0   \n",
      "3          Firefox         6          90           6            0   \n",
      "4            Opera         1           5           1            0   \n",
      "\n",
      "   totalrevenue  engagementrate  engagedsessions      date  \n",
      "0             0        0.153846                2  30/06/23  \n",
      "1             0        0.710784              145  30/06/23  \n",
      "2             0        0.857143               12  30/06/23  \n",
      "3             0        0.714286                5  30/06/23  \n",
      "4             0        1.000000                1  30/06/23  \n"
     ]
    }
   ],
   "source": [
    "print(\"\\nTech Browser Report:\")\n",
    "print(tech_browser_report.head())"
   ]
  },
  {
   "cell_type": "markdown",
   "id": "ce2f6305-255d-4132-9efb-82f8496435a9",
   "metadata": {},
   "source": [
    "Analyze key metrics\n",
    "\n",
    "1. Daily Active Users"
   ]
  },
  {
   "cell_type": "code",
   "execution_count": 10,
   "id": "14d42267-bce1-48d1-aec8-cd993ece5cf7",
   "metadata": {},
   "outputs": [
    {
     "name": "stdout",
     "output_type": "stream",
     "text": [
      "\n",
      "Total Daily Active Users: 233667\n"
     ]
    }
   ],
   "source": [
    "active_users_count = daily_active_users['active1dayusers'].sum()  \n",
    "print(f\"\\nTotal Daily Active Users: {active_users_count}\")"
   ]
  },
  {
   "cell_type": "markdown",
   "id": "c8dbe6cc-0990-4edb-bc6d-78c26ec1d808",
   "metadata": {},
   "source": [
    "2. User Demographics - Age Distribution"
   ]
  },
  {
   "cell_type": "code",
   "execution_count": 12,
   "id": "0c3831bf-e31c-4cbf-9515-45d2db6589e9",
   "metadata": {},
   "outputs": [
    {
     "name": "stdout",
     "output_type": "stream",
     "text": [
      "\n",
      "User Demographics - Age Distribution:\n",
      "useragebracket\n",
      "18-24        5764\n",
      "25-34       12289\n",
      "35-44       10657\n",
      "45-54       10649\n",
      "55-64        8397\n",
      "65+          5178\n",
      "unknown    162608\n",
      "Name: newusers, dtype: int64\n"
     ]
    }
   ],
   "source": [
    "age_distribution = demographic_age_report.groupby('useragebracket')['newusers'].sum() \n",
    "print(\"\\nUser Demographics - Age Distribution:\")\n",
    "print(age_distribution)\n"
   ]
  },
  {
   "cell_type": "markdown",
   "id": "7f590959-6c0e-422e-a576-44a38ea39502",
   "metadata": {},
   "source": [
    "3. Browser Usage Statistics"
   ]
  },
  {
   "cell_type": "code",
   "execution_count": 13,
   "id": "095f34c6-74cf-416c-ac1c-8eea4930e9d7",
   "metadata": {},
   "outputs": [
    {
     "name": "stdout",
     "output_type": "stream",
     "text": [
      "\n",
      "Browser Usage Statistics:\n",
      "browser\n",
      "(not set)                        3\n",
      "Aloha Browser                    3\n",
      "Amazon Silk                      7\n",
      "Android Browser                153\n",
      "Android Runtime                 19\n",
      "Android Webview               5765\n",
      "Chrome                      100026\n",
      "DuckDuckGo Browser               1\n",
      "Edge                          6832\n",
      "Firefox                       4780\n",
      "Meta Quest Browser               2\n",
      "Mozilla Compatible Agent        44\n",
      "Opera                          523\n",
      "Phoenix Browser                  3\n",
      "Safari                       87202\n",
      "Safari (in-app)               5147\n",
      "Samsung Internet              5205\n",
      "UC Browser                      10\n",
      "Waterfox                         6\n",
      "Whale Browser                    1\n",
      "YaBrowser                       54\n",
      "Name: newusers, dtype: int64\n"
     ]
    }
   ],
   "source": [
    "browser_usage = tech_browser_report.groupby('browser')['newusers'].sum() \n",
    "print(\"\\nBrowser Usage Statistics:\")\n",
    "print(browser_usage)"
   ]
  },
  {
   "cell_type": "code",
   "execution_count": 14,
   "id": "b8903b39-3f88-41cc-8b44-ce565aba3c1f",
   "metadata": {},
   "outputs": [
    {
     "ename": "SyntaxError",
     "evalue": "invalid syntax (2891842826.py, line 1)",
     "output_type": "error",
     "traceback": [
      "\u001b[1;36m  Cell \u001b[1;32mIn[14], line 1\u001b[1;36m\u001b[0m\n\u001b[1;33m    python -m venv myenv\u001b[0m\n\u001b[1;37m              ^\u001b[0m\n\u001b[1;31mSyntaxError\u001b[0m\u001b[1;31m:\u001b[0m invalid syntax\n"
     ]
    }
   ],
   "source": [
    "\n"
   ]
  },
  {
   "cell_type": "code",
   "execution_count": null,
   "id": "afcb8ad2-7863-4d1b-a8b7-fe3c3c2a44c4",
   "metadata": {},
   "outputs": [],
   "source": []
  }
 ],
 "metadata": {
  "kernelspec": {
   "display_name": "Python 3 (ipykernel)",
   "language": "python",
   "name": "python3"
  },
  "language_info": {
   "codemirror_mode": {
    "name": "ipython",
    "version": 3
   },
   "file_extension": ".py",
   "mimetype": "text/x-python",
   "name": "python",
   "nbconvert_exporter": "python",
   "pygments_lexer": "ipython3",
   "version": "3.12.3"
  }
 },
 "nbformat": 4,
 "nbformat_minor": 5
}
